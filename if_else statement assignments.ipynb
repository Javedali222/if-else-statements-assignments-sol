{
 "cells": [
  {
   "cell_type": "code",
   "execution_count": 9,
   "id": "c3cb79fc-baf4-4498-8922-0d2cecbf9a1d",
   "metadata": {},
   "outputs": [
    {
     "name": "stdin",
     "output_type": "stream",
     "text": [
      "Enter number of electric unit 350\n"
     ]
    },
    {
     "name": "stdout",
     "output_type": "stream",
     "text": [
      "Amount to pay: 2000\n"
     ]
    }
   ],
   "source": [
    "amount=0\n",
    "nu=int(input(\"Enter number of electric unit\"))\n",
    "if nu<=100:\n",
    "    amount=0\n",
    "if nu>100 and nu<=200:\n",
    "    amount=(nu-100)*5\n",
    "if nu>200:\n",
    "    amount=500+(nu-200)*10\n",
    "print(\"Amount to pay:\",amount)    "
   ]
  },
  {
   "cell_type": "code",
   "execution_count": 15,
   "id": "4e9e420b-4f1f-4eb6-bc80-53f013706650",
   "metadata": {},
   "outputs": [
    {
     "name": "stdin",
     "output_type": "stream",
     "text": [
      "Enter marks 45\n"
     ]
    },
    {
     "name": "stdout",
     "output_type": "stream",
     "text": [
      "Grade is D\n"
     ]
    }
   ],
   "source": [
    "per=int(input(\"Enter marks\"))\n",
    "if per>90:\n",
    "    print(\"Grade is a\")\n",
    "if per>80 and per<=90:\n",
    "    print(\"Grade is B\")\n",
    "if per>=60 and per<=80:\n",
    "    print(\"Grade is C\")\n",
    "if per<60:\n",
    "    print(\"Grade is D\")\n",
    "        \n",
    "    \n",
    "        \n",
    "        "
   ]
  },
  {
   "cell_type": "code",
   "execution_count": 14,
   "id": "6174c574-bd06-4b57-9ad6-640a5d139f66",
   "metadata": {},
   "outputs": [
    {
     "name": "stdin",
     "output_type": "stream",
     "text": [
      "Enter age of first person 20\n",
      "Enter age of second person 30\n",
      "Enter age of third person 40\n",
      "Enter age of fourth person 50\n"
     ]
    },
    {
     "name": "stdout",
     "output_type": "stream",
     "text": [
      "Age of the oldest person is 20\n"
     ]
    }
   ],
   "source": [
    "age1=int(input(\"Enter age of first person\"))\n",
    "age2=int(input(\"Enter age of second person\"))\n",
    "age3=int(input(\"Enter age of third person\"))\n",
    "age4=int(input(\"Enter age of fourth person\"))\n",
    "if age1<age2 and age1<age3 and age1<age4:\n",
    "    print(\"Age of the oldest person is\",age1) \n",
    "if age2<age1 and age2<age3 and age2<age4:\n",
    "    print(\"Age of the oldest person is\",age2)\n",
    "if age3<age1 and age3<age2 and age3<age4:\n",
    "    print(\"Age of the oldest person is\",age3)\n",
    "if age4<age1 and age4<age2 and age4<age3:\n",
    "    print(\"Age of oldest person is\",age4)\n",
    "    "
   ]
  },
  {
   "cell_type": "code",
   "execution_count": 17,
   "id": "779576a2-e3ff-429b-b112-e2d1e9a7bdb6",
   "metadata": {},
   "outputs": [
    {
     "name": "stdin",
     "output_type": "stream",
     "text": [
      "Enter the time period of service 11\n",
      "Enter your salary 45000\n"
     ]
    },
    {
     "name": "stdout",
     "output_type": "stream",
     "text": [
      "Bonus is 4500.0\n"
     ]
    }
   ],
   "source": [
    "ser=int(input(\"Enter the time period of service\"))\n",
    "sal=int(input(\"Enter your salary\"))\n",
    "if ser>10:\n",
    "   b=10/100*sal\n",
    "if ser>=6 and ser<=10:\n",
    "    b=8/100*sal\n",
    "if ser<6:\n",
    "    b=5/100*sal\n",
    "print(\"Bonus is\",b)    "
   ]
  },
  {
   "cell_type": "code",
   "execution_count": 18,
   "id": "21dcfed8-79fe-4a98-93f8-5bc2ee8a241b",
   "metadata": {},
   "outputs": [
    {
     "name": "stdin",
     "output_type": "stream",
     "text": [
      "Enter first number 10\n",
      "Enter second number 20\n",
      "Enter third number 30\n"
     ]
    },
    {
     "name": "stdout",
     "output_type": "stream",
     "text": [
      "Grestest number is 30\n"
     ]
    }
   ],
   "source": [
    "num1=int(input(\"Enter first number\"))\n",
    "num2=int(input(\"Enter second number\"))\n",
    "num3=int(input(\"Enter third number\"))\n",
    "if num1>num2 and num1>num3:\n",
    "    print(\"Greatest number is\",num1)\n",
    "if num2>num1 and num2>num3:\n",
    "    print(\"Greatest number is\",num2)\n",
    "if num3>num2 and num3>num1:\n",
    "    print(\"Grestest number is\",num3)"
   ]
  },
  {
   "cell_type": "code",
   "execution_count": 22,
   "id": "fcd78c61-4c6c-44a8-ad34-7e67f843406b",
   "metadata": {},
   "outputs": [
    {
     "name": "stdin",
     "output_type": "stream",
     "text": [
      "Enter markedprice 8000\n"
     ]
    },
    {
     "name": "stdout",
     "output_type": "stream",
     "text": [
      "Netamount of pay 6800.0\n"
     ]
    }
   ],
   "source": [
    "netamount=0\n",
    "discont=0\n",
    "markedprice=int(input(\"Enter markedprice\"))\n",
    "if markedprice>10000:\n",
    "    discount=20/100*markedprice\n",
    "if markedprice>7000 and markedprice<=10000:\n",
    "    discount=15/100*markedprice\n",
    "if markedprice<=7000:\n",
    "    discont=10/100*markedprice\n",
    "netamount=markedprice-discount\n",
    "print(\"Netamount of pay\",netamount)"
   ]
  },
  {
   "cell_type": "code",
   "execution_count": 25,
   "id": "65162341-9ba2-458d-91e3-3be8443017e8",
   "metadata": {},
   "outputs": [
    {
     "name": "stdin",
     "output_type": "stream",
     "text": [
      "Enter your age 20\n"
     ]
    },
    {
     "name": "stdout",
     "output_type": "stream",
     "text": [
      "Hello\n"
     ]
    }
   ],
   "source": [
    "num=int(input(\"Enter your age\"))\n",
    "if num%5==0:\n",
    "    print(\"Hello\")\n",
    "else:\n",
    "    print(\"Bye\")"
   ]
  },
  {
   "cell_type": "code",
   "execution_count": 32,
   "id": "b6b11c7e-8858-4500-bee0-ab292196d75e",
   "metadata": {},
   "outputs": [
    {
     "name": "stdin",
     "output_type": "stream",
     "text": [
      "Enter any number 24\n"
     ]
    },
    {
     "name": "stdout",
     "output_type": "stream",
     "text": [
      "Last digit of number is not divisible by 3\n"
     ]
    }
   ],
   "source": [
    "num=int(input(\"Enter any number\"))\n",
    "ld=num%10\n",
    "if ld%3==0:\n",
    "    print(\"Last digit of number is divisible by 3\")\n",
    "else:\n",
    "    print(\"Last digit of number is not divisible by 3\")\n"
   ]
  },
  {
   "cell_type": "code",
   "execution_count": 35,
   "id": "e2b389e8-0c8d-4a21-a501-3e7bfe300c40",
   "metadata": {},
   "outputs": [
    {
     "name": "stdin",
     "output_type": "stream",
     "text": [
      "Enter any number 10000\n"
     ]
    },
    {
     "name": "stdout",
     "output_type": "stream",
     "text": [
      "Enter three digit number\n"
     ]
    }
   ],
   "source": [
    "num1=(input(\"Enter any number\"))\n",
    "l=len(num1)\n",
    "if l!=3:\n",
    "    print(\"Enter three digit number\")\n",
    "else:\n",
    "    print(\"Middle digit is\",(int(num1)%200//20))\n",
    "    \n"
   ]
  },
  {
   "cell_type": "code",
   "execution_count": null,
   "id": "21e9e96f-019b-48d8-9f0a-c15469297ae3",
   "metadata": {},
   "outputs": [],
   "source": []
  }
 ],
 "metadata": {
  "kernelspec": {
   "display_name": "Python 3 (ipykernel)",
   "language": "python",
   "name": "python3"
  },
  "language_info": {
   "codemirror_mode": {
    "name": "ipython",
    "version": 3
   },
   "file_extension": ".py",
   "mimetype": "text/x-python",
   "name": "python",
   "nbconvert_exporter": "python",
   "pygments_lexer": "ipython3",
   "version": "3.12.4"
  }
 },
 "nbformat": 4,
 "nbformat_minor": 5
}
